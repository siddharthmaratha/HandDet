{
  "cells": [
    {
      "cell_type": "markdown",
      "metadata": {
        "id": "8rACmbmk0SPV"
      },
      "source": [
        "#Installing & importing dependencies"
      ]
    },
    {
      "cell_type": "code",
      "execution_count": null,
      "metadata": {
        "id": "ZhKGumpf0FK8"
      },
      "outputs": [],
      "source": [
        "!pip install imageai tensorflow-gpu==2.4.0"
      ]
    },
    {
      "cell_type": "markdown",
      "metadata": {
        "id": "OZ9XD1APCd_b"
      },
      "source": [
        "#Checking GPU access"
      ]
    },
    {
      "cell_type": "code",
      "execution_count": null,
      "metadata": {
        "colab": {
          "base_uri": "https://localhost:8080/"
        },
        "id": "JG2HvfCzCT8E",
        "outputId": "3165bb45-f0a0-41e1-e553-0f5a36a4977a"
      },
      "outputs": [
        {
          "name": "stdout",
          "output_type": "stream",
          "text": [
            "Found GPU at: /device:GPU:0\n"
          ]
        }
      ],
      "source": [
        "%tensorflow_version 2.x\n",
        "import tensorflow as tf\n",
        "device_name = tf.test.gpu_device_name()\n",
        "if device_name != '/device:GPU:0':\n",
        "  raise SystemError('GPU device not found')\n",
        "print('Found GPU at: {}'.format(device_name))"
      ]
    },
    {
      "cell_type": "markdown",
      "metadata": {
        "id": "N1dDp_wuCrIz"
      },
      "source": [
        "#Importing libraries"
      ]
    },
    {
      "cell_type": "code",
      "execution_count": null,
      "metadata": {
        "id": "aoEl6oqiCwzi"
      },
      "outputs": [],
      "source": [
        "from imageai.Detection.Custom import DetectionModelTrainer\n",
        "from imageai.Detection.Custom import CustomObjectDetection\n",
        "import cv2 as cv"
      ]
    },
    {
      "cell_type": "markdown",
      "metadata": {
        "id": "YfYiserNC6l6"
      },
      "source": [
        "#Training the model"
      ]
    },
    {
      "cell_type": "code",
      "execution_count": null,
      "metadata": {
        "colab": {
          "base_uri": "https://localhost:8080/"
        },
        "id": "N1NnHltPC9dj",
        "outputId": "c650b6e3-5e0b-4bb1-897b-67442d8c9750"
      },
      "outputs": [],
      "source": [
        "trainer = DetectionModelTrainer()\n",
        "trainer.setModelTypeAsYOLOv3()\n",
        "trainer.setDataDirectory(data_directory=\"./drive/MyDrive/HandDet new data\")\n",
        "trainer.setTrainConfig(object_names_array=[\"hand\"], \n",
        "                       batch_size=8, num_experiments=20, \n",
        "                       train_from_pretrained_model=\n",
        "                       \"/content/drive/MyDrive/HandDet data/pretrained-yolov3.h5\")\n",
        "trainer.trainModel()"
      ]
    },
    {
      "cell_type": "markdown",
      "metadata": {
        "id": "WvLClv0pC99y"
      },
      "source": [
        "#Model evaluation"
      ]
    },
    {
      "cell_type": "code",
      "execution_count": null,
      "metadata": {
        "id": "3xs_UTgrDB86"
      },
      "outputs": [],
      "source": [
        "trainer.evaluateModel(model_path=\"./drive/MyDrive/HandDet new data/models\", \n",
        "                      json_path=\"./drive/MyDrive/HandDet new data/json/detection_config.json\", \n",
        "                      iou_threshold=0.5, object_threshold=0.5, nms_threshold=0.5)"
      ]
    },
    {
      "cell_type": "markdown",
      "metadata": {
        "id": "V1H3qkZ2DCi7"
      },
      "source": [
        "#Detection"
      ]
    },
    {
      "cell_type": "code",
      "execution_count": null,
      "metadata": {
        "id": "kSlIXz_oDF4a"
      },
      "outputs": [],
      "source": [
        "detector = CustomObjectDetection()\n",
        "detector.setModelTypeAsYOLOv3()\n",
        "detector.setModelPath(\"./drive/MyDrive/HandDet data/models/detection_model-ex-033--loss-0012.004.h5\") \n",
        "detector.setJsonPath(\"./drive/MyDrive/HandDet data/json/detection_config.json\")\n",
        "detector.loadModel()\n",
        "detections = detector.detectObjectsFromImage(minimum_percentage_probability=20, \n",
        "                                             input_image=\"./drive/MyDrive/HandDet data/train/images/20.jpg\", \n",
        "                                             output_image_path=\"./drive/MyDrive/HandDet data/detected.jpg\")\n",
        "for detection in detections:\n",
        "    print(detection[\"name\"], \" : \", detection[\"percentage_probability\"], \" : \", detection[\"box_points\"])"
      ]
    }
  ],
  "metadata": {
    "accelerator": "GPU",
    "colab": {
      "collapsed_sections": [],
      "name": "HandDet",
      "provenance": []
    },
    "kernelspec": {
      "display_name": "Python 3",
      "name": "python3"
    },
    "language_info": {
      "name": "python"
    }
  },
  "nbformat": 4,
  "nbformat_minor": 0
}
